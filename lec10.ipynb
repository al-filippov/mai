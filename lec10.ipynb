{
 "cells": [
  {
   "cell_type": "code",
   "execution_count": 44,
   "metadata": {},
   "outputs": [
    {
     "data": {
      "text/plain": [
       "[\"Food(name='empty', proteins=0, fats=0, carbones=0, calories=0)\",\n",
       " \"Food(name='творог', proteins=16.0, fats=9.0, carbones=3.0, calories=157.0)\",\n",
       " \"Food(name='овсяна каша', proteins=10.0, fats=6.0, carbones=68.0, calories=366.0)\",\n",
       " \"Food(name='мюсли', proteins=7.5, fats=13.0, carbones=62.0, calories=395.0)\",\n",
       " \"Food(name='бутерброд с сыром', proteins=12.8, fats=16.2, carbones=29.6, calories=315.4)\",\n",
       " \"Food(name='бутерброд с колбасой', proteins=9.3, fats=13.3, carbones=29.6, calories=275.3)\",\n",
       " \"Food(name='торт', proteins=4.8, fats=29.1, carbones=54.3, calories=498.3)\",\n",
       " \"Food(name='шашлык из свинины', proteins=15.0, fats=17.8, carbones=0.4, calories=221.8)\",\n",
       " \"Food(name='банан', proteins=1.5, fats=0.5, carbones=21.0, calories=94.5)\",\n",
       " \"Food(name='апельсин', proteins=0.9, fats=0.2, carbones=8.1, calories=37.8)\",\n",
       " \"Food(name='яблоко', proteins=0.4, fats=0.4, carbones=9.8, calories=44.400000000000006)\",\n",
       " \"Food(name='чай', proteins=0.1, fats=0.0, carbones=0.2, calories=1.2000000000000002)\"]"
      ]
     },
     "metadata": {},
     "output_type": "display_data"
    }
   ],
   "source": [
    "from dataclasses import dataclass\n",
    "\n",
    "TEA = 11\n",
    "EMPTY = 0\n",
    "\n",
    "@dataclass(init=False)\n",
    "class Food:\n",
    "    name: str;\n",
    "    proteins: float;\n",
    "    fats: float;\n",
    "    carbones: float;\n",
    "    calories: float;\n",
    "\n",
    "    def __init__(self, name: str, proteins: float, fats: float, carbones: float) -> None:\n",
    "        self.name = name\n",
    "        self.proteins = proteins\n",
    "        self.fats = fats\n",
    "        self.carbones = carbones\n",
    "        self.calories = proteins * 4 + carbones * 4 + fats * 9\n",
    "\n",
    "\n",
    "\n",
    "food = [\n",
    "    Food(\"empty\", 0, 0, 0),\n",
    "    Food(\"творог\", 16.0, 9.0, 3.0),\n",
    "    Food(\"овсяна каша\", 10.0, 6.0, 68.0),\n",
    "    Food(\"мюсли\", 7.5, 13.0, 62.0),\n",
    "    Food(\"бутерброд с сыром\", 12.8, 16.2, 29.6),\n",
    "    Food(\"бутерброд с колбасой\", 9.3, 13.3, 29.6),\n",
    "    Food(\"торт\", 4.8, 29.1, 54.3),\n",
    "    Food(\"шашлык из свинины\", 15.0, 17.8, 0.4),\n",
    "    Food(\"банан\", 1.5, 0.5, 21.0),\n",
    "    Food(\"апельсин\", 0.9, 0.2, 8.1),\n",
    "    Food(\"яблоко\", 0.4, 0.4, 9.8),\n",
    "    Food(\"чай\", 0.1, 0.0, 0.2),\n",
    "]\n",
    "\n",
    "display([str(item) for item in food])"
   ]
  },
  {
   "cell_type": "code",
   "execution_count": 45,
   "metadata": {},
   "outputs": [
    {
     "data": {
      "text/html": [
       "<div>\n",
       "<style scoped>\n",
       "    .dataframe tbody tr th:only-of-type {\n",
       "        vertical-align: middle;\n",
       "    }\n",
       "\n",
       "    .dataframe tbody tr th {\n",
       "        vertical-align: top;\n",
       "    }\n",
       "\n",
       "    .dataframe thead th {\n",
       "        text-align: right;\n",
       "    }\n",
       "</style>\n",
       "<table border=\"1\" class=\"dataframe\">\n",
       "  <thead>\n",
       "    <tr style=\"text-align: right;\">\n",
       "      <th></th>\n",
       "      <th>name</th>\n",
       "      <th>prt</th>\n",
       "      <th>fat</th>\n",
       "      <th>crb</th>\n",
       "      <th>cal</th>\n",
       "    </tr>\n",
       "  </thead>\n",
       "  <tbody>\n",
       "    <tr>\n",
       "      <th>0</th>\n",
       "      <td>empty</td>\n",
       "      <td>0.0</td>\n",
       "      <td>0.0</td>\n",
       "      <td>0.0</td>\n",
       "      <td>0.0</td>\n",
       "    </tr>\n",
       "    <tr>\n",
       "      <th>1</th>\n",
       "      <td>творог</td>\n",
       "      <td>16.0</td>\n",
       "      <td>9.0</td>\n",
       "      <td>3.0</td>\n",
       "      <td>157.0</td>\n",
       "    </tr>\n",
       "    <tr>\n",
       "      <th>2</th>\n",
       "      <td>овсяна каша</td>\n",
       "      <td>10.0</td>\n",
       "      <td>6.0</td>\n",
       "      <td>68.0</td>\n",
       "      <td>366.0</td>\n",
       "    </tr>\n",
       "    <tr>\n",
       "      <th>3</th>\n",
       "      <td>мюсли</td>\n",
       "      <td>7.5</td>\n",
       "      <td>13.0</td>\n",
       "      <td>62.0</td>\n",
       "      <td>395.0</td>\n",
       "    </tr>\n",
       "    <tr>\n",
       "      <th>4</th>\n",
       "      <td>бутерброд с сыром</td>\n",
       "      <td>12.8</td>\n",
       "      <td>16.2</td>\n",
       "      <td>29.6</td>\n",
       "      <td>315.4</td>\n",
       "    </tr>\n",
       "    <tr>\n",
       "      <th>5</th>\n",
       "      <td>бутерброд с колбасой</td>\n",
       "      <td>9.3</td>\n",
       "      <td>13.3</td>\n",
       "      <td>29.6</td>\n",
       "      <td>275.3</td>\n",
       "    </tr>\n",
       "    <tr>\n",
       "      <th>6</th>\n",
       "      <td>торт</td>\n",
       "      <td>4.8</td>\n",
       "      <td>29.1</td>\n",
       "      <td>54.3</td>\n",
       "      <td>498.3</td>\n",
       "    </tr>\n",
       "    <tr>\n",
       "      <th>7</th>\n",
       "      <td>шашлык из свинины</td>\n",
       "      <td>15.0</td>\n",
       "      <td>17.8</td>\n",
       "      <td>0.4</td>\n",
       "      <td>221.8</td>\n",
       "    </tr>\n",
       "    <tr>\n",
       "      <th>8</th>\n",
       "      <td>банан</td>\n",
       "      <td>1.5</td>\n",
       "      <td>0.5</td>\n",
       "      <td>21.0</td>\n",
       "      <td>94.5</td>\n",
       "    </tr>\n",
       "    <tr>\n",
       "      <th>9</th>\n",
       "      <td>апельсин</td>\n",
       "      <td>0.9</td>\n",
       "      <td>0.2</td>\n",
       "      <td>8.1</td>\n",
       "      <td>37.8</td>\n",
       "    </tr>\n",
       "    <tr>\n",
       "      <th>10</th>\n",
       "      <td>яблоко</td>\n",
       "      <td>0.4</td>\n",
       "      <td>0.4</td>\n",
       "      <td>9.8</td>\n",
       "      <td>44.4</td>\n",
       "    </tr>\n",
       "    <tr>\n",
       "      <th>11</th>\n",
       "      <td>чай</td>\n",
       "      <td>0.1</td>\n",
       "      <td>0.0</td>\n",
       "      <td>0.2</td>\n",
       "      <td>1.2</td>\n",
       "    </tr>\n",
       "  </tbody>\n",
       "</table>\n",
       "</div>"
      ],
      "text/plain": [
       "                    name   prt   fat   crb    cal\n",
       "0                  empty   0.0   0.0   0.0    0.0\n",
       "1                 творог  16.0   9.0   3.0  157.0\n",
       "2            овсяна каша  10.0   6.0  68.0  366.0\n",
       "3                  мюсли   7.5  13.0  62.0  395.0\n",
       "4      бутерброд с сыром  12.8  16.2  29.6  315.4\n",
       "5   бутерброд с колбасой   9.3  13.3  29.6  275.3\n",
       "6                   торт   4.8  29.1  54.3  498.3\n",
       "7      шашлык из свинины  15.0  17.8   0.4  221.8\n",
       "8                  банан   1.5   0.5  21.0   94.5\n",
       "9               апельсин   0.9   0.2   8.1   37.8\n",
       "10                яблоко   0.4   0.4   9.8   44.4\n",
       "11                   чай   0.1   0.0   0.2    1.2"
      ]
     },
     "execution_count": 45,
     "metadata": {},
     "output_type": "execute_result"
    }
   ],
   "source": [
    "import pandas as pd\n",
    "\n",
    "df = pd.DataFrame(columns=[\"name\", \"prt\", \"fat\", \"crb\", \"cal\"])\n",
    "\n",
    "for item in food:\n",
    "    df.loc[len(df.index)] = [item.name, item.proteins, item.fats, item.carbones, item.calories]\n",
    "\n",
    "df"
   ]
  },
  {
   "cell_type": "code",
   "execution_count": 46,
   "metadata": {},
   "outputs": [],
   "source": [
    "from typing import List\n",
    "\n",
    "from pandas import DataFrame\n",
    "\n",
    "\n",
    "def my_print(df:DataFrame, data: List[List[int]]) -> List[List[str]]:\n",
    "    return [[str(df.loc[element][\"name\"]) for element in item] for item in data]"
   ]
  },
  {
   "cell_type": "code",
   "execution_count": 47,
   "metadata": {},
   "outputs": [
    {
     "data": {
      "text/plain": [
       "30"
      ]
     },
     "metadata": {},
     "output_type": "display_data"
    },
    {
     "data": {
      "text/plain": [
       "[['мюсли', 'шашлык из свинины', 'торт', 'чай'],\n",
       " ['бутерброд с сыром', 'апельсин', 'мюсли', 'чай'],\n",
       " ['апельсин', 'яблоко', 'мюсли', 'чай'],\n",
       " ['бутерброд с колбасой', 'empty', 'бутерброд с колбасой', 'чай'],\n",
       " ['торт', 'empty', 'торт', 'чай'],\n",
       " ['чай', 'творог', 'шашлык из свинины', 'чай'],\n",
       " ['бутерброд с сыром', 'яблоко', 'бутерброд с колбасой', 'чай'],\n",
       " ['овсяна каша', 'банан', 'овсяна каша', 'чай'],\n",
       " ['апельсин', 'empty', 'торт', 'чай'],\n",
       " ['empty', 'апельсин', 'апельсин', 'чай'],\n",
       " ['бутерброд с колбасой', 'мюсли', 'чай', 'чай'],\n",
       " ['банан', 'шашлык из свинины', 'творог', 'чай'],\n",
       " ['бутерброд с колбасой', 'банан', 'мюсли', 'чай'],\n",
       " ['шашлык из свинины', 'бутерброд с сыром', 'empty', 'чай'],\n",
       " ['шашлык из свинины', 'торт', 'чай', 'чай'],\n",
       " ['чай', 'бутерброд с колбасой', 'шашлык из свинины', 'чай'],\n",
       " ['бутерброд с колбасой', 'мюсли', 'шашлык из свинины', 'чай'],\n",
       " ['овсяна каша', 'творог', 'шашлык из свинины', 'чай'],\n",
       " ['бутерброд с колбасой', 'empty', 'творог', 'чай'],\n",
       " ['овсяна каша', 'чай', 'апельсин', 'чай'],\n",
       " ['банан', 'яблоко', 'мюсли', 'чай'],\n",
       " ['торт', 'мюсли', 'шашлык из свинины', 'чай'],\n",
       " ['мюсли', 'бутерброд с колбасой', 'бутерброд с колбасой', 'чай'],\n",
       " ['бутерброд с сыром', 'бутерброд с колбасой', 'овсяна каша', 'чай'],\n",
       " ['бутерброд с сыром', 'шашлык из свинины', 'творог', 'чай'],\n",
       " ['творог', 'яблоко', 'творог', 'чай'],\n",
       " ['чай', 'овсяна каша', 'банан', 'чай'],\n",
       " ['мюсли', 'empty', 'овсяна каша', 'чай'],\n",
       " ['апельсин', 'овсяна каша', 'банан', 'чай'],\n",
       " ['empty', 'шашлык из свинины', 'творог', 'чай']]"
      ]
     },
     "metadata": {},
     "output_type": "display_data"
    }
   ],
   "source": [
    "import numpy as np\n",
    "\n",
    "POPULATION_COUNT = 30\n",
    "GENE_SIZE = 4\n",
    "\n",
    "def my_population(food: List[int], count: int, size: int, tea = False) -> List[List[int]]:\n",
    "    population: List[List[int]] = []\n",
    "    while len(population) < count:\n",
    "        element: List[int] = [-1] * size\n",
    "        to = size\n",
    "        if tea:\n",
    "            element[-1] = TEA\n",
    "            to = size - 1\n",
    "        for position in range(to):\n",
    "            value = np.random.choice(range(len(food)))\n",
    "            element[position] = food[value]\n",
    "        population.append(element)\n",
    "    return population\n",
    "\n",
    "population = my_population(list(df.index.values), POPULATION_COUNT, GENE_SIZE, True)\n",
    "display(len(population))\n",
    "display(my_print(df, population))"
   ]
  },
  {
   "cell_type": "code",
   "execution_count": 48,
   "metadata": {},
   "outputs": [
    {
     "data": {
      "text/plain": [
       "'cal = 252.7; p = 17.6; f = 9.5; c = 24.2'"
      ]
     },
     "metadata": {},
     "output_type": "display_data"
    },
    {
     "data": {
      "text/plain": [
       "'pr = 27.859121487930356; fr = 33.83458646616542; cr = 38.306292045904236'"
      ]
     },
     "metadata": {},
     "output_type": "display_data"
    },
    {
     "data": {
      "text/plain": [
       "'cald=147.3; pd=7.859121487930356; fd=3.834586466165419; cd=11.693707954095764'"
      ]
     },
     "metadata": {},
     "output_type": "display_data"
    },
    {
     "data": {
      "text/plain": [
       "170.68741590819155"
      ]
     },
     "metadata": {},
     "output_type": "display_data"
    }
   ],
   "source": [
    "from sklearn.preprocessing import MinMaxScaler\n",
    "\n",
    "\n",
    "desired_calories = 400\n",
    "desired_protein_ratio = 20\n",
    "desired_fat_ratio = 30\n",
    "desired_carbon_ratio = 50\n",
    "\n",
    "# https://www.sports.ru/health/blogs/3113398.html\n",
    "def my_fitness(data: DataFrame, breakfast: List[int], debug = False) -> float:\n",
    "    food = data.loc[breakfast]\n",
    "\n",
    "    total_calories = food[\"cal\"].sum()\n",
    "    total_protein = food[\"prt\"].sum()\n",
    "    total_fats = food[\"fat\"].sum()\n",
    "    total_carbones = food[\"crb\"].sum()\n",
    "\n",
    "    protein_ratio = total_protein * 4 / total_calories * 100;\n",
    "    fat_ratio = total_fats * 9 / total_calories * 100;\n",
    "    carbon_ratio = total_carbones * 4 / total_calories * 100;\n",
    "\n",
    "    if debug:\n",
    "        display(f\"cal = {total_calories}; p = {total_protein}; f = {total_fats}; c = {total_carbones}\")\n",
    "        display(f\"pr = {protein_ratio}; fr = {fat_ratio}; cr = {carbon_ratio}\")\n",
    "\n",
    "    calories_diff = np.abs(total_calories - desired_calories)\n",
    "    protein_diff = np.abs(protein_ratio - desired_protein_ratio)\n",
    "    fat_diff = np.abs(fat_ratio - desired_fat_ratio)\n",
    "    carbon_diff =  np.abs(carbon_ratio - desired_carbon_ratio)\n",
    "    if debug:\n",
    "        display(f\"cald={calories_diff}; pd={protein_diff}; fd={fat_diff}; cd={carbon_diff}\")\n",
    "\n",
    "    return calories_diff + protein_diff + fat_diff + carbon_diff\n",
    "\n",
    "# творог, банан, чай, пусто\n",
    "display(my_fitness(df, [1, 8, TEA, EMPTY], True))"
   ]
  },
  {
   "cell_type": "code",
   "execution_count": 49,
   "metadata": {},
   "outputs": [
    {
     "data": {
      "text/plain": [
       "[['творог', 'яблоко', 'empty', 'чай']]"
      ]
     },
     "metadata": {},
     "output_type": "display_data"
    },
    {
     "data": {
      "text/plain": [
       "[['шашлык из свинины', 'торт', 'empty', 'чай']]"
      ]
     },
     "metadata": {},
     "output_type": "display_data"
    },
    {
     "data": {
      "text/plain": [
       "[['творог', 'яблоко', 'empty', 'чай']]"
      ]
     },
     "metadata": {},
     "output_type": "display_data"
    },
    {
     "data": {
      "text/plain": [
       "[['творог', 'торт', 'empty', 'чай']]"
      ]
     },
     "metadata": {},
     "output_type": "display_data"
    }
   ],
   "source": [
    "def my_crossover(item1: List[int], item2: List[int], size: int) -> List[int]:\n",
    "    random_split_point = np.random.choice(range(size - 1))\n",
    "    item1[random_split_point:] = item2[random_split_point:]\n",
    "    return item1\n",
    "\n",
    "for i in range(4):\n",
    "    # творог, яблоко, апельсин, чай\n",
    "    # шашлык, торт, пусто, чай\n",
    "    display(my_print(df, [my_crossover([1, 10, 9, TEA], [7, 6, EMPTY, TEA], 4)]))"
   ]
  },
  {
   "cell_type": "code",
   "execution_count": 50,
   "metadata": {},
   "outputs": [
    {
     "data": {
      "text/plain": [
       "'e=1; p=3; v=6'"
      ]
     },
     "metadata": {},
     "output_type": "display_data"
    },
    {
     "data": {
      "text/plain": [
       "'e=2; p=2; v=7'"
      ]
     },
     "metadata": {},
     "output_type": "display_data"
    },
    {
     "data": {
      "text/plain": [
       "'e=3; p=3; v=2'"
      ]
     },
     "metadata": {},
     "output_type": "display_data"
    },
    {
     "data": {
      "text/plain": [
       "'e=4; p=3; v=8'"
      ]
     },
     "metadata": {},
     "output_type": "display_data"
    },
    {
     "data": {
      "text/plain": [
       "[['мюсли', 'шашлык из свинины', 'бутерброд с колбасой', 'чай'],\n",
       " ['бутерброд с сыром', 'торт', 'мюсли', 'чай'],\n",
       " ['апельсин', 'яблоко', 'творог', 'чай'],\n",
       " ['бутерброд с колбасой', 'empty', 'шашлык из свинины', 'чай']]"
      ]
     },
     "metadata": {},
     "output_type": "display_data"
    }
   ],
   "source": [
    "def my_mutation(food: List[int], population: List[List[int]], size: int, proba = 1.0, debug = False) -> List[List[int]]:\n",
    "    for element in range(len(population)):\n",
    "        if np.random.random(1)[0] > proba:\n",
    "            continue\n",
    "        position = np.random.choice(range(size - 1))\n",
    "        new_value = np.random.choice(range(len(food)))\n",
    "        if debug:\n",
    "            display(f\"e={element + 1}; p={position + 1}; v={new_value + 1}\")\n",
    "        population[element][position] = food[new_value]\n",
    "    return population\n",
    "\n",
    "\n",
    "display(my_print(df, my_mutation(list(df.index.values), population[:4], GENE_SIZE, debug=True)))"
   ]
  },
  {
   "cell_type": "code",
   "execution_count": 79,
   "metadata": {},
   "outputs": [
    {
     "name": "stderr",
     "output_type": "stream",
     "text": [
      "/Users/user/Projects/python/mai/.venv/lib/python3.12/site-packages/pygad/pygad.py:1136: UserWarning: Use the 'save_best_solutions' parameter with caution as it may cause memory overflow when either the number of generations or number of genes is large.\n",
      "  warnings.warn(\"Use the 'save_best_solutions' parameter with caution as it may cause memory overflow when either the number of generations or number of genes is large.\")\n",
      "/Users/user/Projects/python/mai/.venv/lib/python3.12/site-packages/pygad/visualize/plot.py:120: UserWarning: No artists with labels found to put in legend.  Note that artists whose label start with an underscore are ignored when legend() is called with no argument.\n",
      "  matplt.legend()\n"
     ]
    },
    {
     "data": {
      "image/png": "[encoded data removed]",
      "text/plain": [
       "<Figure size 640x480 with 1 Axes>"
      ]
     },
     "metadata": {},
     "output_type": "display_data"
    },
    {
     "data": {
      "text/plain": [
       "(array([ 8,  0,  4, 11]), 0.041286663937694715, 0)"
      ]
     },
     "metadata": {},
     "output_type": "display_data"
    },
    {
     "data": {
      "text/plain": [
       "[['овсяна каша', 'чай', 'апельсин', 'чай'],\n",
       " ['банан', 'empty', 'бутерброд с сыром', 'чай'],\n",
       " ['банан', 'empty', 'бутерброд с сыром', 'чай'],\n",
       " ['банан', 'empty', 'бутерброд с сыром', 'чай'],\n",
       " ['банан', 'empty', 'бутерброд с сыром', 'чай'],\n",
       " ['банан', 'empty', 'бутерброд с сыром', 'чай'],\n",
       " ['банан', 'empty', 'бутерброд с сыром', 'чай'],\n",
       " ['банан', 'empty', 'бутерброд с сыром', 'чай'],\n",
       " ['банан', 'empty', 'бутерброд с сыром', 'чай'],\n",
       " ['банан', 'empty', 'бутерброд с сыром', 'чай'],\n",
       " ['банан', 'empty', 'бутерброд с сыром', 'чай'],\n",
       " ['банан', 'empty', 'бутерброд с сыром', 'чай'],\n",
       " ['банан', 'empty', 'бутерброд с сыром', 'чай'],\n",
       " ['банан', 'empty', 'бутерброд с сыром', 'чай'],\n",
       " ['банан', 'empty', 'бутерброд с сыром', 'чай'],\n",
       " ['банан', 'empty', 'бутерброд с сыром', 'чай'],\n",
       " ['банан', 'empty', 'бутерброд с сыром', 'чай'],\n",
       " ['банан', 'empty', 'бутерброд с сыром', 'чай'],\n",
       " ['банан', 'empty', 'бутерброд с сыром', 'чай'],\n",
       " ['банан', 'empty', 'бутерброд с сыром', 'чай'],\n",
       " ['банан', 'empty', 'бутерброд с сыром', 'чай']]"
      ]
     },
     "metadata": {},
     "output_type": "display_data"
    },
    {
     "data": {
      "text/plain": [
       "[['банан', 'empty', 'бутерброд с сыром', 'чай']]"
      ]
     },
     "metadata": {},
     "output_type": "display_data"
    },
    {
     "data": {
      "text/plain": [
       "'cal = 411.09999999999997; p = 14.4; f = 16.7; c = 50.800000000000004'"
      ]
     },
     "metadata": {},
     "output_type": "display_data"
    },
    {
     "data": {
      "text/plain": [
       "'pr = 14.011189491607883; fr = 36.56044757966431; cr = 49.42836292872781'"
      ]
     },
     "metadata": {},
     "output_type": "display_data"
    },
    {
     "data": {
      "text/plain": [
       "'cald=11.099999999999966; pd=5.988810508392117; fd=6.560447579664313; cd=0.5716370712721925'"
      ]
     },
     "metadata": {},
     "output_type": "display_data"
    },
    {
     "data": {
      "text/plain": [
       "24.220895159328588"
      ]
     },
     "metadata": {},
     "output_type": "display_data"
    }
   ],
   "source": [
    "import pygad\n",
    "\n",
    "\n",
    "def fitness_func(ga_instanse, solution, solution_idx):\n",
    "    return 1 / (my_fitness(df, solution) + 0.000001)\n",
    "\n",
    "\n",
    "def parent_selection_func(fitness, num_parents, ga_instance):\n",
    "    fitness_sorted = sorted(range(len(fitness)), key=lambda k: fitness[k])\n",
    "    fitness_sorted.reverse()\n",
    "\n",
    "    parents = np.empty((num_parents, ga_instance.population.shape[1]))\n",
    "\n",
    "    for parent_num in range(num_parents):\n",
    "        parents[parent_num, :] = ga_instance.population[\n",
    "            fitness_sorted[parent_num], :\n",
    "        ].copy()\n",
    "\n",
    "    return parents, np.array(fitness_sorted[:num_parents])\n",
    "\n",
    "\n",
    "def crossover_func(parents, offspring_size, ga_instance):\n",
    "    offspring = []\n",
    "    idx = 0\n",
    "    while len(offspring) != offspring_size[0]:\n",
    "        parent1 = parents[idx % parents.shape[0], :].copy()\n",
    "        parent2 = parents[(idx + 1) % parents.shape[0], :].copy()\n",
    "        if np.random.random(1)[0] > ga_instance.crossover_probability:\n",
    "            offspring.append(parent1)\n",
    "        else:\n",
    "            result = my_crossover(parent1, parent2, GENE_SIZE)\n",
    "            offspring.append(result)\n",
    "\n",
    "        idx += 1\n",
    "    return np.array(offspring)\n",
    "\n",
    "def mutation_func(offspring, ga_instance):\n",
    "    return my_mutation(list(df.index.values), offspring, GENE_SIZE, ga_instance.mutation_probability)\n",
    "\n",
    "ga = pygad.GA(\n",
    "    gene_type=int,\n",
    "    num_generations=20,\n",
    "    initial_population=population,\n",
    "    num_parents_mating=int(POPULATION_COUNT * 0.3),\n",
    "    fitness_func=fitness_func,\n",
    "    parent_selection_type=parent_selection_func,  # type: ignore\n",
    "    crossover_type=crossover_func,  # type: ignore\n",
    "    crossover_probability=1.0,\n",
    "    mutation_type=mutation_func,  # type: ignore\n",
    "    mutation_probability=0.3,\n",
    "    save_best_solutions=True,\n",
    ")\n",
    "\n",
    "ga.run()\n",
    "ga.plot_fitness()\n",
    "display(ga.best_solution())\n",
    "\n",
    "display(my_print(df, [sol for sol in ga.best_solutions]))\n",
    "\n",
    "my_breakfast = list(ga.best_solution()[0])\n",
    "display(my_print(df, [my_breakfast]))\n",
    "display(my_fitness(df, my_breakfast, True))"
   ]
  },
  {
   "cell_type": "code",
   "execution_count": 52,
   "metadata": {},
   "outputs": [
    {
     "name": "stdout",
     "output_type": "stream",
     "text": [
      "<class 'pandas.core.frame.DataFrame'>\n",
      "RangeIndex: 335 entries, 0 to 334\n",
      "Data columns (total 5 columns):\n",
      " #   Column  Non-Null Count  Dtype  \n",
      "---  ------  --------------  -----  \n",
      " 0   name    335 non-null    object \n",
      " 1   prt     335 non-null    float64\n",
      " 2   fat     335 non-null    float64\n",
      " 3   crb     335 non-null    float64\n",
      " 4   cal     335 non-null    float64\n",
      "dtypes: float64(4), object(1)\n",
      "memory usage: 13.2+ KB\n"
     ]
    },
    {
     "data": {
      "text/plain": [
       "None"
      ]
     },
     "metadata": {},
     "output_type": "display_data"
    },
    {
     "data": {
      "text/html": [
       "<div>\n",
       "<style scoped>\n",
       "    .dataframe tbody tr th:only-of-type {\n",
       "        vertical-align: middle;\n",
       "    }\n",
       "\n",
       "    .dataframe tbody tr th {\n",
       "        vertical-align: top;\n",
       "    }\n",
       "\n",
       "    .dataframe thead th {\n",
       "        text-align: right;\n",
       "    }\n",
       "</style>\n",
       "<table border=\"1\" class=\"dataframe\">\n",
       "  <thead>\n",
       "    <tr style=\"text-align: right;\">\n",
       "      <th></th>\n",
       "      <th>name</th>\n",
       "      <th>prt</th>\n",
       "      <th>fat</th>\n",
       "      <th>crb</th>\n",
       "      <th>cal</th>\n",
       "    </tr>\n",
       "  </thead>\n",
       "  <tbody>\n",
       "    <tr>\n",
       "      <th>0</th>\n",
       "      <td>Cows' milk</td>\n",
       "      <td>32.0</td>\n",
       "      <td>40.0</td>\n",
       "      <td>48.0</td>\n",
       "      <td>660.000</td>\n",
       "    </tr>\n",
       "    <tr>\n",
       "      <th>1</th>\n",
       "      <td>Milk skim</td>\n",
       "      <td>36.0</td>\n",
       "      <td>0.0</td>\n",
       "      <td>52.0</td>\n",
       "      <td>360.000</td>\n",
       "    </tr>\n",
       "    <tr>\n",
       "      <th>2</th>\n",
       "      <td>Buttermilk</td>\n",
       "      <td>9.0</td>\n",
       "      <td>5.0</td>\n",
       "      <td>13.0</td>\n",
       "      <td>127.000</td>\n",
       "    </tr>\n",
       "    <tr>\n",
       "      <th>3</th>\n",
       "      <td>Evaporated, undiluted</td>\n",
       "      <td>16.0</td>\n",
       "      <td>20.0</td>\n",
       "      <td>24.0</td>\n",
       "      <td>345.000</td>\n",
       "    </tr>\n",
       "    <tr>\n",
       "      <th>4</th>\n",
       "      <td>Fortified milk</td>\n",
       "      <td>89.0</td>\n",
       "      <td>42.0</td>\n",
       "      <td>119.0</td>\n",
       "      <td>1.373</td>\n",
       "    </tr>\n",
       "    <tr>\n",
       "      <th>...</th>\n",
       "      <td>...</td>\n",
       "      <td>...</td>\n",
       "      <td>...</td>\n",
       "      <td>...</td>\n",
       "      <td>...</td>\n",
       "    </tr>\n",
       "    <tr>\n",
       "      <th>330</th>\n",
       "      <td>Fruit-flavored soda</td>\n",
       "      <td>0.0</td>\n",
       "      <td>0.0</td>\n",
       "      <td>42.0</td>\n",
       "      <td>161.000</td>\n",
       "    </tr>\n",
       "    <tr>\n",
       "      <th>331</th>\n",
       "      <td>Ginger ale</td>\n",
       "      <td>0.0</td>\n",
       "      <td>0.0</td>\n",
       "      <td>28.0</td>\n",
       "      <td>105.000</td>\n",
       "    </tr>\n",
       "    <tr>\n",
       "      <th>332</th>\n",
       "      <td>Root beer</td>\n",
       "      <td>0.0</td>\n",
       "      <td>0.0</td>\n",
       "      <td>35.0</td>\n",
       "      <td>140.000</td>\n",
       "    </tr>\n",
       "    <tr>\n",
       "      <th>333</th>\n",
       "      <td>Coffee</td>\n",
       "      <td>0.0</td>\n",
       "      <td>0.0</td>\n",
       "      <td>1.0</td>\n",
       "      <td>3.000</td>\n",
       "    </tr>\n",
       "    <tr>\n",
       "      <th>334</th>\n",
       "      <td>Tea</td>\n",
       "      <td>0.0</td>\n",
       "      <td>0.0</td>\n",
       "      <td>1.0</td>\n",
       "      <td>4.000</td>\n",
       "    </tr>\n",
       "  </tbody>\n",
       "</table>\n",
       "<p>335 rows × 5 columns</p>\n",
       "</div>"
      ],
      "text/plain": [
       "                      name   prt   fat    crb      cal\n",
       "0               Cows' milk  32.0  40.0   48.0  660.000\n",
       "1                Milk skim  36.0   0.0   52.0  360.000\n",
       "2               Buttermilk   9.0   5.0   13.0  127.000\n",
       "3    Evaporated, undiluted  16.0  20.0   24.0  345.000\n",
       "4           Fortified milk  89.0  42.0  119.0    1.373\n",
       "..                     ...   ...   ...    ...      ...\n",
       "330    Fruit-flavored soda   0.0   0.0   42.0  161.000\n",
       "331             Ginger ale   0.0   0.0   28.0  105.000\n",
       "332              Root beer   0.0   0.0   35.0  140.000\n",
       "333                 Coffee   0.0   0.0    1.0    3.000\n",
       "334                    Tea   0.0   0.0    1.0    4.000\n",
       "\n",
       "[335 rows x 5 columns]"
      ]
     },
     "execution_count": 52,
     "metadata": {},
     "output_type": "execute_result"
    }
   ],
   "source": [
    "fooddf = pd.read_csv(\"data/food/food-ga.csv\")\n",
    "\n",
    "display(fooddf.info())\n",
    "fooddf"
   ]
  },
  {
   "cell_type": "code",
   "execution_count": 60,
   "metadata": {},
   "outputs": [
    {
     "data": {
      "text/plain": [
       "100"
      ]
     },
     "metadata": {},
     "output_type": "display_data"
    },
    {
     "data": {
      "text/plain": [
       "[['Brazil nuts', 'Fruit cake', 'Yolks', 'Clam chowder'],\n",
       " ['Spanish rice',\n",
       "  'Chocolate fudge',\n",
       "  'Stewed or canned',\n",
       "  'Grapefruit, fresh, 5\" diameter'],\n",
       " ['Potatoes, baked', 'Sauerkraut', 'Beef', 'Beef'],\n",
       " ['Lambs quarters, steamed',\n",
       "  'Lambs quarters, steamed',\n",
       "  'Sardines',\n",
       "  'Sardines'],\n",
       " ['Gingerbread', 'White', 'Fruit cocktail, canned', 'Cashews'],\n",
       " ['Lamb, chop, broiled',\n",
       "  'Pancakes 4\" diam.',\n",
       "  'European, as Muscat, Tokay',\n",
       "  'Lemonade concentratefrozen'],\n",
       " ['Beet greens', 'Cream soups', 'Stalk raw', 'Corned beef'],\n",
       " ['Stalk raw', 'Turkey', 'French-fried', 'Sesame seeds'],\n",
       " ['Grapes', 'Lamb, chop, broiled', 'Processed cheese', 'Ground lean'],\n",
       " ['Potatoes, baked', 'Wheat (whole)', 'Okra', 'Beetroots'],\n",
       " ['Oyster stew', 'Cheddar, grated cup', 'Lard', 'Gingerbread'],\n",
       " ['Root beer', 'Beef', 'Custard', 'Oyster stew'],\n",
       " ['Potatoes Mashed with milk and butter',\n",
       "  'Processed cheese',\n",
       "  'Marshmallows',\n",
       "  'Pecans'],\n",
       " ['Turkey', 'Flounder', 'Pineapple juice', 'Spaghetti with meat sauce'],\n",
       " ['Hamburger', 'Lima, dry, cooked', 'Butter', 'OlivesRipe'],\n",
       " ['Chocolate syrup', 'Peanuts', 'Cherry Pie', 'Peppers with beef and crumbs'],\n",
       " ['Roast', 'Lobster', 'Ham, canned, spiced', 'Fresh, steamed peas'],\n",
       " ['Flour',\n",
       "  'Steak, lean, as round',\n",
       "  'Fried, breast or leg and thigh chicken',\n",
       "  'Chard steamed'],\n",
       " ['Pineapple juice', 'Cheddar', 'Navy, baked with pork', 'Onions'],\n",
       " ['Lamb, chop, broiled',\n",
       "  'Wheat meal cereal unrefined',\n",
       "  'Rolls',\n",
       "  'Milk chocolate'],\n",
       " ['Bran flakes', 'Honey', 'Peppers canned', 'Shad'],\n",
       " ['Raspberries',\n",
       "  'Table (12.2% alcohol)',\n",
       "  'Chicken livers, fried',\n",
       "  'Cornflakes'],\n",
       " ['Molasses', 'Cherry Pie', 'Puddings Sugar', 'Lambs quarters, steamed'],\n",
       " ['Broccoli', 'Onions', 'Soybeans', 'Candy'],\n",
       " ['skim, non-instant', 'Raw, 3 by 2V', 'Rutabagas', 'Steak'],\n",
       " ['Molasses', 'Beef soup', 'Beetroots', 'Raisins'],\n",
       " ['Onions', 'Chocolate fudge', 'table blends sugar', 'White'],\n",
       " ['Cod', 'White', 'Eggs raw', 'Okra'],\n",
       " ['Celery', 'Corned beef hash Dried', 'Corn bread ground meal', 'Lard'],\n",
       " ['Apple betty', 'Shad', 'Squash', 'Cream cheese'],\n",
       " ['Ices', 'Bean sprouts', 'Oranges 3\" diameter', 'Oysters'],\n",
       " ['Grapefruit sections', 'Celery', 'Clams', 'Rolls'],\n",
       " ['Shredded wheat biscuit', 'Tomatoes', 'Cocoa', 'Corned beef'],\n",
       " ['Strips, from raw', '(cornstarch)', 'Cakes', 'Onions'],\n",
       " ['roasted and salted', 'Shrimp', 'Potatoes, baked', 'Asparagus'],\n",
       " ['Watermelon', 'Split-pea soup', 'Olives large', 'Lettuce'],\n",
       " ['Shrimp', 'Evaporated, undiluted', 'Halibut', 'Custard'],\n",
       " ['Tangerines', 'Beer', 'Olives large', 'Grapes'],\n",
       " ['Lemon juice', 'Kohlrabi', 'Noodle', 'Roquefort type'],\n",
       " ['Hamburger',\n",
       "  'Spinach',\n",
       "  'Brown, firm-packed, dark sugar',\n",
       "  'Eggs Scrambled or fried'],\n",
       " ['Steamed cabbage', 'Whole-wheat', 'Club soda', 'Tuna'],\n",
       " ['Cashews', 'Cupcake', 'Puffed wheat presweetened', 'Banana'],\n",
       " ['Club soda', 'Corn meal', 'Celery', 'Lobster'],\n",
       " ['Beetroots', 'Chocolate fudge', 'Navy, baked with pork', 'Chocolate fudge'],\n",
       " ['Turnips, steamed', 'Grape juice', 'Plums', 'Tuna'],\n",
       " ['Scallops', 'Raisins', 'Soda, 2 1/2 square', 'Rice polish'],\n",
       " ['Noodles', 'Fresh, raw', 'Bread, cracked wheat', 'Cashews'],\n",
       " ['Fudge', 'Fish sticks fried', 'Carrots', 'Noodle'],\n",
       " ['Persimmons', 'Crackers', 'Limeade concentrate frozen', 'Lima, dry, cooked'],\n",
       " ['Winter, mashed', 'Flounder', 'Tomato juice', 'White, 20 slices, or'],\n",
       " ['Baked with cheese', 'Cornflakes', 'Herring', 'Winter, mashed'],\n",
       " ['Veal', 'Hard candies', 'Processed cheese', 'OlivesRipe'],\n",
       " [\"Cows' milk\", 'Pizza 14\" diam.', 'Soda, 2 1/2 square', 'Grapes'],\n",
       " ['Collards', 'Oatmeal', 'Thousand Island sauce', 'Dried, uncooked'],\n",
       " ['Lobster', 'Lemon meringue', 'Chocolate creams', 'Corned beef hash Stew'],\n",
       " ['Eggs raw', 'Cauliflower', 'Watercress stems, raw', 'Margarine, 2 pat or'],\n",
       " ['Bran flakes', 'Veal', 'Corned beef hash canned', 'Stalk raw'],\n",
       " ['Yolks',\n",
       "  'Fried, breast or leg and thigh chicken',\n",
       "  'Raw, red',\n",
       "  'Evaporated, undiluted'],\n",
       " ['Beef soup', 'Custard', 'Evaporated, undiluted', 'Mustard greens'],\n",
       " ['Lima', 'whole-wheat', 'Cheddar, grated cup', 'Ice cream'],\n",
       " ['Lard', 'Apple betty', \"Cows' milk\", 'Ginger ale'],\n",
       " ['Lima', 'Fudge', 'Soybeans', 'Beetroots'],\n",
       " ['Ices', 'Mince', 'Banana', 'Raw, 2 by 2 1/2'],\n",
       " ['Fortified milk', 'Stewed or canned', 'Tomatoes', '(cornstarch)'],\n",
       " ['Cashews', 'Beet greens', 'Cashews', 'Tomato juice'],\n",
       " ['Chard steamed', 'Butter', 'Pork, chop, 1 thick', 'Farina'],\n",
       " ['Blueberries', 'Tomatoes', 'Walnuts', 'Fruit cocktail, canned'],\n",
       " ['Apple betty', 'Wheat (whole)', 'Eggplant', 'Frozen '],\n",
       " ['Cane Syrup',\n",
       "  'Club soda',\n",
       "  'Grapefruit sections',\n",
       "  'European, as Muscat, Tokay'],\n",
       " ['Wheat (whole)', 'Persimmons', 'or whipping', 'Scallops'],\n",
       " ['Corned beef hash canned',\n",
       "  'Scalloped with cheese potatoes',\n",
       "  'Lima',\n",
       "  'coconut sweetened'],\n",
       " ['Pears', 'Cheddar, grated cup', 'whole-wheat', 'Shoulder, braised'],\n",
       " ['Buttermilk', 'Oyster stew', 'Roasted chicken', 'Fruit cocktail, canned'],\n",
       " ['Peanut butter, natural', 'Potatoes, pan-tried', 'Rice', 'Beef'],\n",
       " ['Butter', 'Fresh', 'Wines', 'Buttermilk'],\n",
       " ['Dates', 'Steak', 'Hydrogenated cooking fat', 'skim. milk'],\n",
       " ['Hard candies', 'Shredded wheat biscuit', 'Cucumbers', 'Collards'],\n",
       " ['Roast', 'figs Canned with syrup ', 'cooked or canned', 'Flour'],\n",
       " ['Pancakes 4\" diam.', 'Honey', 'Asparagus', 'Fortified milk'],\n",
       " ['Milk chocolate', 'Gingerbread', 'Yolks', 'Pecans'],\n",
       " ['Beans', 'Butter', 'Ice milk', 'Cane Syrup'],\n",
       " ['Rice', 'Lima, dry, cooked', 'roasted and salted', 'Processed cheese'],\n",
       " ['Wheat (all purpose)',\n",
       "  'Fresh, raw figs',\n",
       "  'Navy, baked with pork',\n",
       "  'Hamburger'],\n",
       " ['Crab meat', 'Candy', 'Asparagus', 'Vegetable'],\n",
       " ['Brazil nuts', 'skim, non-instant', 'Soybeans', 'Collards'],\n",
       " ['Scallops',\n",
       "  'Spaghetti with meat sauce',\n",
       "  'Flounder',\n",
       "  'Wheat, pancakes 4\" diam.'],\n",
       " ['Fresh, raw', 'Artichoke', 'Mackerel', 'Cashews'],\n",
       " ['Pork sausage',\n",
       "  'cooked or canned',\n",
       "  'Popcorn salted',\n",
       "  'Shredded wheat biscuit'],\n",
       " ['Pears', 'Tomato soup', 'Table (12.2% alcohol)', 'preserves'],\n",
       " ['Fruit-flavored soda', 'Ham, as ', 'Lard', 'Sponge cake'],\n",
       " ['Noodles', 'French-fried', 'Watermelon', 'Crab meat'],\n",
       " ['Grapes', 'Onions', 'Chicken livers, fried', 'Blueberries'],\n",
       " ['Lentils', 'Peanut butter, natural', 'Peppers canned', 'Processed cheese'],\n",
       " ['table blends sugar', 'Molasses', 'Halibut', 'Ice milk'],\n",
       " ['Peanuts', 'Oysters', 'Turnip greens', 'Lamb, chop, broiled'],\n",
       " ['Sardines', 'Lettuce', 'Navy, baked with pork', 'Prune juice'],\n",
       " ['Bread pudding',\n",
       "  'Watercress stems, raw',\n",
       "  'Noodles',\n",
       "  'Cranberry sauce sweetened'],\n",
       " ['Root beer', 'Corned beef hash Stew', 'Pineapple Crushed', 'Powdered milk'],\n",
       " ['Asparagus', 'Bacon', 'with tomatoes and cheese', 'Cream cheese'],\n",
       " ['Corned beef hash Dried', 'Sponge cake', 'preserves', 'Swordfish']]"
      ]
     },
     "metadata": {},
     "output_type": "display_data"
    }
   ],
   "source": [
    "NEW_POPULATION_COUNT = 100\n",
    "\n",
    "new_population = my_population(list(fooddf.index.values), NEW_POPULATION_COUNT, GENE_SIZE)\n",
    "display(len(new_population))\n",
    "display(my_print(fooddf, new_population))"
   ]
  },
  {
   "cell_type": "code",
   "execution_count": null,
   "metadata": {},
   "outputs": [
    {
     "name": "stderr",
     "output_type": "stream",
     "text": [
      "/Users/user/Projects/python/mai/.venv/lib/python3.12/site-packages/pygad/pygad.py:1136: UserWarning: Use the 'save_best_solutions' parameter with caution as it may cause memory overflow when either the number of generations or number of genes is large.\n",
      "  warnings.warn(\"Use the 'save_best_solutions' parameter with caution as it may cause memory overflow when either the number of generations or number of genes is large.\")\n",
      "/Users/user/Projects/python/mai/.venv/lib/python3.12/site-packages/pygad/visualize/plot.py:120: UserWarning: No artists with labels found to put in legend.  Note that artists whose label start with an underscore are ignored when legend() is called with no argument.\n",
      "  matplt.legend()\n"
     ]
    },
    {
     "data": {
      "image/png": "[encoded data removed]",
      "text/plain": [
       "<Figure size 640x480 with 1 Axes>"
      ]
     },
     "metadata": {},
     "output_type": "display_data"
    },
    {
     "data": {
      "text/plain": [
       "(array([250, 141,  83, 110]), 0.21052627146815336, 0)"
      ]
     },
     "metadata": {},
     "output_type": "display_data"
    },
    {
     "data": {
      "text/plain": [
       "[['Bran flakes', 'Honey', 'Peppers canned', 'Shad'],\n",
       " ['Tangerines',\n",
       "  'Table (12.2% alcohol)',\n",
       "  'Chicken livers, fried',\n",
       "  'Cornflakes'],\n",
       " ['Collards', 'Table (12.2% alcohol)', 'Chicken livers, fried', 'Cornflakes'],\n",
       " ['Watermelon', 'Oatmeal', 'Corned beef hash canned', 'Stalk raw'],\n",
       " ['Watermelon', 'Oatmeal', 'Corned beef hash canned', 'Stalk raw'],\n",
       " ['Watermelon', 'Oatmeal', 'Corned beef hash canned', 'Stalk raw'],\n",
       " ['Watermelon', 'Oatmeal', 'Corned beef hash canned', 'Stalk raw'],\n",
       " ['Sponge cake', 'Oatmeal', 'Corned beef hash canned', 'Stalk raw'],\n",
       " ['Sponge cake', 'Oatmeal', 'Corned beef hash canned', 'Stalk raw'],\n",
       " ['Sponge cake', 'Oatmeal', 'Corned beef hash canned', 'Stalk raw'],\n",
       " ['Sponge cake', 'Oatmeal', 'Corned beef hash canned', 'Stalk raw'],\n",
       " ['Sponge cake', 'Oatmeal', 'Corned beef hash canned', 'Stalk raw'],\n",
       " ['Sponge cake', 'Oatmeal', 'Corned beef hash canned', 'Stalk raw'],\n",
       " ['Watermelon', 'French-fried', 'Oyster stew', 'Stalk raw'],\n",
       " ['Watermelon', 'French-fried', 'Oyster stew', 'Stalk raw'],\n",
       " ['Watermelon', 'French-fried', 'Oyster stew', 'Stalk raw'],\n",
       " ['Watermelon', 'French-fried', 'Oyster stew', 'Stalk raw'],\n",
       " ['Watermelon', 'French-fried', 'Oyster stew', 'Stalk raw'],\n",
       " ['Watermelon', 'French-fried', 'Oyster stew', 'Stalk raw'],\n",
       " ['Watermelon', 'French-fried', 'Oyster stew', 'Stalk raw'],\n",
       " ['Watermelon', 'French-fried', 'Oyster stew', 'Stalk raw'],\n",
       " ['Watermelon', 'French-fried', 'Oyster stew', 'Stalk raw'],\n",
       " ['Watermelon', 'French-fried', 'Oyster stew', 'Stalk raw'],\n",
       " ['Watermelon', 'French-fried', 'Oyster stew', 'Stalk raw'],\n",
       " ['Watermelon', 'French-fried', 'Oyster stew', 'Stalk raw'],\n",
       " ['Watermelon', 'French-fried', 'Oyster stew', 'Stalk raw'],\n",
       " ['Watermelon', 'French-fried', 'Oyster stew', 'Stalk raw'],\n",
       " ['Watermelon', 'French-fried', 'Oyster stew', 'Stalk raw'],\n",
       " ['table blends sugar', 'French-fried', 'Oyster stew', 'Stalk raw'],\n",
       " ['table blends sugar', 'French-fried', 'Oyster stew', 'Stalk raw'],\n",
       " ['table blends sugar', 'French-fried', 'Oyster stew', 'Stalk raw'],\n",
       " ['Rice flakes', 'French-fried', 'Oyster stew', 'Stalk raw'],\n",
       " ['Rice flakes', 'French-fried', 'Oyster stew', 'Stalk raw'],\n",
       " ['Rice flakes', 'French-fried', 'Oyster stew', 'Stalk raw'],\n",
       " ['Rice flakes', 'French-fried', 'Oyster stew', 'Stalk raw'],\n",
       " ['Rice flakes', 'French-fried', 'Oyster stew', 'Stalk raw'],\n",
       " ['Rice flakes', 'French-fried', 'Oyster stew', 'Stalk raw'],\n",
       " ['Rice flakes', 'French-fried', 'Oyster stew', 'Stalk raw'],\n",
       " ['Rice flakes', 'French-fried', 'Oyster stew', 'Stalk raw'],\n",
       " ['Rice flakes', 'French-fried', 'Oyster stew', 'Stalk raw'],\n",
       " ['Rice flakes', 'French-fried', 'Oyster stew', 'Stalk raw'],\n",
       " ['Rice flakes', 'French-fried', 'Oyster stew', 'Stalk raw'],\n",
       " ['Rice flakes', 'French-fried', 'Oyster stew', 'Stalk raw'],\n",
       " ['Rice flakes', 'French-fried', 'Oyster stew', 'Stalk raw'],\n",
       " ['Rice flakes', 'French-fried', 'Oyster stew', 'Stalk raw'],\n",
       " ['Rice flakes', 'French-fried', 'Oyster stew', 'Stalk raw'],\n",
       " ['Rice flakes', 'French-fried', 'Oyster stew', 'Stalk raw'],\n",
       " ['Rice flakes', 'French-fried', 'Oyster stew', 'Stalk raw'],\n",
       " ['Rice flakes', 'French-fried', 'Oyster stew', 'Stalk raw'],\n",
       " ['Rice flakes', 'French-fried', 'Oyster stew', 'Stalk raw'],\n",
       " ['Rice flakes', 'French-fried', 'Oyster stew', 'Stalk raw'],\n",
       " ['Rice flakes', 'French-fried', 'Oyster stew', 'Stalk raw'],\n",
       " ['Rice flakes', 'French-fried', 'Oyster stew', 'Stalk raw'],\n",
       " ['Rice flakes', 'French-fried', 'Oyster stew', 'Stalk raw'],\n",
       " ['Rice flakes', 'French-fried', 'Oyster stew', 'Stalk raw'],\n",
       " ['Rice flakes', 'French-fried', 'Oyster stew', 'Stalk raw'],\n",
       " ['Rice flakes', 'French-fried', 'Oyster stew', 'Stalk raw'],\n",
       " ['Rice flakes', 'French-fried', 'Oyster stew', 'Stalk raw'],\n",
       " ['Rice flakes', 'French-fried', 'Oyster stew', 'Stalk raw'],\n",
       " ['Rice flakes', 'French-fried', 'Oyster stew', 'Stalk raw'],\n",
       " ['Rice flakes', 'French-fried', 'Oyster stew', 'Stalk raw'],\n",
       " ['Rice flakes', 'French-fried', 'Oyster stew', 'Stalk raw'],\n",
       " ['Rice flakes', 'French-fried', 'Oyster stew', 'Stalk raw'],\n",
       " ['Rice flakes', 'French-fried', 'Oyster stew', 'Stalk raw'],\n",
       " ['Rice flakes', 'French-fried', 'Oyster stew', 'Stalk raw'],\n",
       " ['Rice flakes', 'French-fried', 'Oyster stew', 'Stalk raw'],\n",
       " ['Rice flakes', 'French-fried', 'Oyster stew', 'Stalk raw'],\n",
       " ['Rice flakes', 'French-fried', 'Oyster stew', 'Stalk raw'],\n",
       " ['Rice flakes', 'French-fried', 'Oyster stew', 'Stalk raw'],\n",
       " ['Rice flakes', 'French-fried', 'Oyster stew', 'Stalk raw'],\n",
       " ['Rice flakes', 'French-fried', 'Oyster stew', 'Stalk raw'],\n",
       " ['Rice flakes', 'French-fried', 'Oyster stew', 'Stalk raw'],\n",
       " ['Rice flakes', 'French-fried', 'Oyster stew', 'Stalk raw'],\n",
       " ['Rice flakes', 'French-fried', 'Oyster stew', 'Stalk raw'],\n",
       " ['Rice flakes', 'French-fried', 'Oyster stew', 'Stalk raw'],\n",
       " ['Rice flakes', 'French-fried', 'Oyster stew', 'Stalk raw'],\n",
       " ['Rice flakes', 'French-fried', 'Oyster stew', 'Stalk raw'],\n",
       " ['Rice flakes', 'French-fried', 'Oyster stew', 'Stalk raw'],\n",
       " ['Rice flakes', 'French-fried', 'Oyster stew', 'Stalk raw'],\n",
       " ['Rice flakes', 'French-fried', 'Oyster stew', 'Stalk raw'],\n",
       " ['Rice flakes', 'French-fried', 'Oyster stew', 'Stalk raw'],\n",
       " ['Rice flakes', 'French-fried', 'Oyster stew', 'Stalk raw'],\n",
       " ['Rice flakes', 'French-fried', 'Oyster stew', 'Stalk raw'],\n",
       " ['Rice flakes', 'French-fried', 'Oyster stew', 'Stalk raw'],\n",
       " ['Rice flakes', 'French-fried', 'Oyster stew', 'Stalk raw'],\n",
       " ['Rice flakes', 'French-fried', 'Oyster stew', 'Stalk raw'],\n",
       " ['Rice flakes', 'French-fried', 'Oyster stew', 'Stalk raw'],\n",
       " ['Rice flakes', 'French-fried', 'Oyster stew', 'Stalk raw'],\n",
       " ['Rice flakes', 'French-fried', 'Oyster stew', 'Stalk raw'],\n",
       " ['Rice flakes', 'French-fried', 'Oyster stew', 'Stalk raw'],\n",
       " ['Rice flakes', 'French-fried', 'Oyster stew', 'Stalk raw'],\n",
       " ['Rice flakes', 'French-fried', 'Oyster stew', 'Stalk raw'],\n",
       " ['Rice flakes', 'French-fried', 'Oyster stew', 'Stalk raw'],\n",
       " ['Rice flakes', 'French-fried', 'Oyster stew', 'Stalk raw'],\n",
       " ['Rice flakes', 'French-fried', 'Oyster stew', 'Stalk raw'],\n",
       " ['Rice flakes', 'French-fried', 'Oyster stew', 'Stalk raw'],\n",
       " ['Rice flakes', 'French-fried', 'Oyster stew', 'Stalk raw'],\n",
       " ['Rice flakes', 'French-fried', 'Oyster stew', 'Stalk raw'],\n",
       " ['Rice flakes', 'French-fried', 'Oyster stew', 'Stalk raw'],\n",
       " ['Rice flakes', 'French-fried', 'Oyster stew', 'Stalk raw'],\n",
       " ['Rice flakes', 'French-fried', 'Oyster stew', 'Stalk raw'],\n",
       " ['Rice flakes', 'French-fried', 'Oyster stew', 'Stalk raw'],\n",
       " ['Rice flakes', 'French-fried', 'Oyster stew', 'Stalk raw'],\n",
       " ['Rice flakes', 'French-fried', 'Oyster stew', 'Stalk raw'],\n",
       " ['Rice flakes', 'French-fried', 'Oyster stew', 'Stalk raw'],\n",
       " ['Rice flakes', 'French-fried', 'Oyster stew', 'Stalk raw'],\n",
       " ['Rice flakes', 'French-fried', 'Oyster stew', 'Stalk raw'],\n",
       " ['Rice flakes', 'French-fried', 'Oyster stew', 'Stalk raw'],\n",
       " ['Rice flakes', 'French-fried', 'Oyster stew', 'Stalk raw'],\n",
       " ['Rice flakes', 'French-fried', 'Oyster stew', 'Stalk raw'],\n",
       " ['Rice flakes', 'French-fried', 'Oyster stew', 'Stalk raw'],\n",
       " ['Rice flakes', 'French-fried', 'Oyster stew', 'Stalk raw'],\n",
       " ['Rice flakes', 'French-fried', 'Oyster stew', 'Stalk raw'],\n",
       " ['Rice flakes', 'French-fried', 'Oyster stew', 'Stalk raw'],\n",
       " ['Rice flakes', 'French-fried', 'Oyster stew', 'Stalk raw'],\n",
       " ['Rice flakes', 'French-fried', 'Oyster stew', 'Stalk raw'],\n",
       " ['Rice flakes', 'French-fried', 'Oyster stew', 'Stalk raw'],\n",
       " ['Rice flakes', 'French-fried', 'Oyster stew', 'Stalk raw'],\n",
       " ['Rice flakes', 'French-fried', 'Oyster stew', 'Stalk raw'],\n",
       " ['Rice flakes', 'French-fried', 'Oyster stew', 'Stalk raw'],\n",
       " ['Rice flakes', 'French-fried', 'Oyster stew', 'Stalk raw'],\n",
       " ['Rice flakes', 'French-fried', 'Oyster stew', 'Stalk raw'],\n",
       " ['Rice flakes', 'French-fried', 'Oyster stew', 'Stalk raw'],\n",
       " ['Rice flakes', 'French-fried', 'Oyster stew', 'Stalk raw'],\n",
       " ['Rice flakes', 'French-fried', 'Oyster stew', 'Stalk raw'],\n",
       " ['Rice flakes', 'French-fried', 'Oyster stew', 'Stalk raw'],\n",
       " ['Rice flakes', 'French-fried', 'Oyster stew', 'Stalk raw'],\n",
       " ['Rice flakes', 'French-fried', 'Oyster stew', 'Stalk raw'],\n",
       " ['Rice flakes', 'French-fried', 'Oyster stew', 'Stalk raw'],\n",
       " ['Rice flakes', 'French-fried', 'Oyster stew', 'Stalk raw'],\n",
       " ['Rice flakes', 'French-fried', 'Oyster stew', 'Stalk raw'],\n",
       " ['Rice flakes', 'French-fried', 'Oyster stew', 'Stalk raw'],\n",
       " ['Rice flakes', 'French-fried', 'Oyster stew', 'Stalk raw'],\n",
       " ['Rice flakes', 'French-fried', 'Oyster stew', 'Stalk raw'],\n",
       " ['Rice flakes', 'French-fried', 'Oyster stew', 'Stalk raw'],\n",
       " ['Rice flakes', 'French-fried', 'Oyster stew', 'Stalk raw'],\n",
       " ['Rice flakes', 'French-fried', 'Oyster stew', 'Stalk raw'],\n",
       " ['Rice flakes', 'French-fried', 'Oyster stew', 'Stalk raw'],\n",
       " ['Rice flakes', 'French-fried', 'Oyster stew', 'Stalk raw'],\n",
       " ['Rice flakes', 'French-fried', 'Oyster stew', 'Stalk raw'],\n",
       " ['Rice flakes', 'French-fried', 'Oyster stew', 'Stalk raw'],\n",
       " ['Rice flakes', 'French-fried', 'Oyster stew', 'Stalk raw'],\n",
       " ['Rice flakes', 'French-fried', 'Oyster stew', 'Stalk raw'],\n",
       " ['Rice flakes', 'French-fried', 'Oyster stew', 'Stalk raw'],\n",
       " ['Rice flakes', 'French-fried', 'Oyster stew', 'Stalk raw'],\n",
       " ['Rice flakes', 'French-fried', 'Oyster stew', 'Stalk raw'],\n",
       " ['Rice flakes', 'French-fried', 'Oyster stew', 'Stalk raw'],\n",
       " ['Rice flakes', 'French-fried', 'Oyster stew', 'Stalk raw'],\n",
       " ['Rice flakes', 'French-fried', 'Oyster stew', 'Stalk raw'],\n",
       " ['Rice flakes', 'French-fried', 'Oyster stew', 'Stalk raw'],\n",
       " ['Rice flakes', 'French-fried', 'Oyster stew', 'Stalk raw'],\n",
       " ['Rice flakes', 'French-fried', 'Oyster stew', 'Stalk raw'],\n",
       " ['Rice flakes', 'French-fried', 'Oyster stew', 'Stalk raw'],\n",
       " ['Rice flakes', 'French-fried', 'Oyster stew', 'Stalk raw'],\n",
       " ['Rice flakes', 'French-fried', 'Oyster stew', 'Stalk raw'],\n",
       " ['Rice flakes', 'French-fried', 'Oyster stew', 'Stalk raw'],\n",
       " ['Rice flakes', 'French-fried', 'Oyster stew', 'Stalk raw'],\n",
       " ['Rice flakes', 'French-fried', 'Oyster stew', 'Stalk raw'],\n",
       " ['Rice flakes', 'French-fried', 'Oyster stew', 'Stalk raw'],\n",
       " ['Rice flakes', 'French-fried', 'Oyster stew', 'Stalk raw'],\n",
       " ['Rice flakes', 'French-fried', 'Oyster stew', 'Stalk raw'],\n",
       " ['Rice flakes', 'French-fried', 'Oyster stew', 'Stalk raw'],\n",
       " ['Rice flakes', 'French-fried', 'Oyster stew', 'Stalk raw'],\n",
       " ['Rice flakes', 'French-fried', 'Oyster stew', 'Stalk raw'],\n",
       " ['Rice flakes', 'French-fried', 'Oyster stew', 'Stalk raw'],\n",
       " ['Rice flakes', 'French-fried', 'Oyster stew', 'Stalk raw'],\n",
       " ['Rice flakes', 'French-fried', 'Oyster stew', 'Stalk raw'],\n",
       " ['Rice flakes', 'French-fried', 'Oyster stew', 'Stalk raw'],\n",
       " ['Rice flakes', 'French-fried', 'Oyster stew', 'Stalk raw'],\n",
       " ['Rice flakes', 'French-fried', 'Oyster stew', 'Stalk raw'],\n",
       " ['Rice flakes', 'French-fried', 'Oyster stew', 'Stalk raw'],\n",
       " ['Rice flakes', 'French-fried', 'Oyster stew', 'Stalk raw'],\n",
       " ['Rice flakes', 'French-fried', 'Oyster stew', 'Stalk raw'],\n",
       " ['Rice flakes', 'French-fried', 'Oyster stew', 'Stalk raw'],\n",
       " ['Rice flakes', 'French-fried', 'Oyster stew', 'Stalk raw'],\n",
       " ['Rice flakes', 'French-fried', 'Oyster stew', 'Stalk raw'],\n",
       " ['Rice flakes', 'French-fried', 'Oyster stew', 'Stalk raw'],\n",
       " ['Rice flakes', 'French-fried', 'Oyster stew', 'Stalk raw'],\n",
       " ['Rice flakes', 'French-fried', 'Oyster stew', 'Stalk raw'],\n",
       " ['Rice flakes', 'French-fried', 'Oyster stew', 'Stalk raw'],\n",
       " ['Rice flakes', 'French-fried', 'Oyster stew', 'Stalk raw'],\n",
       " ['Rice flakes', 'French-fried', 'Oyster stew', 'Stalk raw'],\n",
       " ['Rice flakes', 'French-fried', 'Oyster stew', 'Stalk raw'],\n",
       " ['Rice flakes', 'French-fried', 'Oyster stew', 'Stalk raw'],\n",
       " ['Rice flakes', 'French-fried', 'Oyster stew', 'Stalk raw'],\n",
       " ['Rice flakes', 'French-fried', 'Oyster stew', 'Stalk raw'],\n",
       " ['Rice flakes', 'French-fried', 'Oyster stew', 'Stalk raw'],\n",
       " ['Rice flakes', 'French-fried', 'Oyster stew', 'Stalk raw'],\n",
       " ['Rice flakes', 'French-fried', 'Oyster stew', 'Stalk raw'],\n",
       " ['Rice flakes', 'French-fried', 'Oyster stew', 'Stalk raw'],\n",
       " ['Rice flakes', 'French-fried', 'Oyster stew', 'Stalk raw'],\n",
       " ['Rice flakes', 'French-fried', 'Oyster stew', 'Stalk raw'],\n",
       " ['Rice flakes', 'French-fried', 'Oyster stew', 'Stalk raw'],\n",
       " ['Rice flakes', 'French-fried', 'Oyster stew', 'Stalk raw'],\n",
       " ['Rice flakes', 'French-fried', 'Oyster stew', 'Stalk raw'],\n",
       " ['Rice flakes', 'French-fried', 'Oyster stew', 'Stalk raw'],\n",
       " ['Rice flakes', 'French-fried', 'Oyster stew', 'Stalk raw'],\n",
       " ['Rice flakes', 'French-fried', 'Oyster stew', 'Stalk raw'],\n",
       " ['Rice flakes', 'French-fried', 'Oyster stew', 'Stalk raw'],\n",
       " ['Rice flakes', 'French-fried', 'Oyster stew', 'Stalk raw'],\n",
       " ['Rice flakes', 'French-fried', 'Oyster stew', 'Stalk raw'],\n",
       " ['Rice flakes', 'French-fried', 'Oyster stew', 'Stalk raw'],\n",
       " ['Rice flakes', 'French-fried', 'Oyster stew', 'Stalk raw'],\n",
       " ['Rice flakes', 'French-fried', 'Oyster stew', 'Stalk raw'],\n",
       " ['Rice flakes', 'French-fried', 'Oyster stew', 'Stalk raw'],\n",
       " ['Rice flakes', 'French-fried', 'Oyster stew', 'Stalk raw'],\n",
       " ['Rice flakes', 'French-fried', 'Oyster stew', 'Stalk raw'],\n",
       " ['Rice flakes', 'French-fried', 'Oyster stew', 'Stalk raw'],\n",
       " ['Rice flakes', 'French-fried', 'Oyster stew', 'Stalk raw'],\n",
       " ['Rice flakes', 'French-fried', 'Oyster stew', 'Stalk raw'],\n",
       " ['Rice flakes', 'French-fried', 'Oyster stew', 'Stalk raw'],\n",
       " ['Rice flakes', 'French-fried', 'Oyster stew', 'Stalk raw'],\n",
       " ['Rice flakes', 'French-fried', 'Oyster stew', 'Stalk raw'],\n",
       " ['Rice flakes', 'French-fried', 'Oyster stew', 'Stalk raw'],\n",
       " ['Rice flakes', 'French-fried', 'Oyster stew', 'Stalk raw'],\n",
       " ['Rice flakes', 'French-fried', 'Oyster stew', 'Stalk raw'],\n",
       " ['Rice flakes', 'French-fried', 'Oyster stew', 'Stalk raw'],\n",
       " ['Rice flakes', 'French-fried', 'Oyster stew', 'Stalk raw'],\n",
       " ['Rice flakes', 'French-fried', 'Oyster stew', 'Stalk raw'],\n",
       " ['Rice flakes', 'French-fried', 'Oyster stew', 'Stalk raw'],\n",
       " ['Rice flakes', 'French-fried', 'Oyster stew', 'Stalk raw'],\n",
       " ['Rice flakes', 'French-fried', 'Oyster stew', 'Stalk raw'],\n",
       " ['Rice flakes', 'French-fried', 'Oyster stew', 'Stalk raw'],\n",
       " ['Rice flakes', 'French-fried', 'Oyster stew', 'Stalk raw'],\n",
       " ['Rice flakes', 'French-fried', 'Oyster stew', 'Stalk raw'],\n",
       " ['Rice flakes', 'French-fried', 'Oyster stew', 'Stalk raw'],\n",
       " ['Rice flakes', 'French-fried', 'Oyster stew', 'Stalk raw'],\n",
       " ['Rice flakes', 'French-fried', 'Oyster stew', 'Stalk raw'],\n",
       " ['Rice flakes', 'French-fried', 'Oyster stew', 'Stalk raw'],\n",
       " ['Rice flakes', 'French-fried', 'Oyster stew', 'Stalk raw'],\n",
       " ['Rice flakes', 'French-fried', 'Oyster stew', 'Stalk raw'],\n",
       " ['Rice flakes', 'French-fried', 'Oyster stew', 'Stalk raw'],\n",
       " ['Rice flakes', 'French-fried', 'Oyster stew', 'Stalk raw'],\n",
       " ['Rice flakes', 'French-fried', 'Oyster stew', 'Stalk raw'],\n",
       " ['Rice flakes', 'French-fried', 'Oyster stew', 'Stalk raw'],\n",
       " ['Rice flakes', 'French-fried', 'Oyster stew', 'Stalk raw'],\n",
       " ['Rice flakes', 'French-fried', 'Oyster stew', 'Stalk raw'],\n",
       " ['Rice flakes', 'French-fried', 'Oyster stew', 'Stalk raw'],\n",
       " ['Rice flakes', 'French-fried', 'Oyster stew', 'Stalk raw'],\n",
       " ['Rice flakes', 'French-fried', 'Oyster stew', 'Stalk raw'],\n",
       " ['Rice flakes', 'French-fried', 'Oyster stew', 'Stalk raw'],\n",
       " ['Rice flakes', 'French-fried', 'Oyster stew', 'Stalk raw'],\n",
       " ['Rice flakes', 'French-fried', 'Oyster stew', 'Stalk raw'],\n",
       " ['Rice flakes', 'French-fried', 'Oyster stew', 'Stalk raw'],\n",
       " ['Rice flakes', 'French-fried', 'Oyster stew', 'Stalk raw'],\n",
       " ['Rice flakes', 'French-fried', 'Oyster stew', 'Stalk raw'],\n",
       " ['Rice flakes', 'French-fried', 'Oyster stew', 'Stalk raw'],\n",
       " ['Rice flakes', 'French-fried', 'Oyster stew', 'Stalk raw'],\n",
       " ['Rice flakes', 'French-fried', 'Oyster stew', 'Stalk raw'],\n",
       " ['Rice flakes', 'French-fried', 'Oyster stew', 'Stalk raw'],\n",
       " ['Rice flakes', 'French-fried', 'Oyster stew', 'Stalk raw'],\n",
       " ['Rice flakes', 'French-fried', 'Oyster stew', 'Stalk raw'],\n",
       " ['Rice flakes', 'French-fried', 'Oyster stew', 'Stalk raw'],\n",
       " ['Rice flakes', 'French-fried', 'Oyster stew', 'Stalk raw'],\n",
       " ['Rice flakes', 'French-fried', 'Oyster stew', 'Stalk raw'],\n",
       " ['Rice flakes', 'French-fried', 'Oyster stew', 'Stalk raw'],\n",
       " ['Rice flakes', 'French-fried', 'Oyster stew', 'Stalk raw'],\n",
       " ['Rice flakes', 'French-fried', 'Oyster stew', 'Stalk raw'],\n",
       " ['Rice flakes', 'French-fried', 'Oyster stew', 'Stalk raw'],\n",
       " ['Rice flakes', 'French-fried', 'Oyster stew', 'Stalk raw'],\n",
       " ['Rice flakes', 'French-fried', 'Oyster stew', 'Stalk raw'],\n",
       " ['Rice flakes', 'French-fried', 'Oyster stew', 'Stalk raw'],\n",
       " ['Rice flakes', 'French-fried', 'Oyster stew', 'Stalk raw'],\n",
       " ['Rice flakes', 'French-fried', 'Oyster stew', 'Stalk raw'],\n",
       " ['Rice flakes', 'French-fried', 'Oyster stew', 'Stalk raw'],\n",
       " ['Rice flakes', 'French-fried', 'Oyster stew', 'Stalk raw'],\n",
       " ['Rice flakes', 'French-fried', 'Oyster stew', 'Stalk raw'],\n",
       " ['Rice flakes', 'French-fried', 'Oyster stew', 'Stalk raw'],\n",
       " ['Rice flakes', 'French-fried', 'Oyster stew', 'Stalk raw'],\n",
       " ['Rice flakes', 'French-fried', 'Oyster stew', 'Stalk raw'],\n",
       " ['Rice flakes', 'French-fried', 'Oyster stew', 'Stalk raw'],\n",
       " ['Rice flakes', 'French-fried', 'Oyster stew', 'Stalk raw'],\n",
       " ['Rice flakes', 'French-fried', 'Oyster stew', 'Stalk raw'],\n",
       " ['Rice flakes', 'French-fried', 'Oyster stew', 'Stalk raw'],\n",
       " ['Rice flakes', 'French-fried', 'Oyster stew', 'Stalk raw'],\n",
       " ['Rice flakes', 'French-fried', 'Oyster stew', 'Stalk raw'],\n",
       " ['Rice flakes', 'French-fried', 'Oyster stew', 'Stalk raw'],\n",
       " ['Rice flakes', 'French-fried', 'Oyster stew', 'Stalk raw'],\n",
       " ['Rice flakes', 'French-fried', 'Oyster stew', 'Stalk raw'],\n",
       " ['Rice flakes', 'French-fried', 'Oyster stew', 'Stalk raw'],\n",
       " ['Rice flakes', 'French-fried', 'Oyster stew', 'Stalk raw'],\n",
       " ['Rice flakes', 'French-fried', 'Oyster stew', 'Stalk raw'],\n",
       " ['Rice flakes', 'French-fried', 'Oyster stew', 'Stalk raw'],\n",
       " ['Rice flakes', 'French-fried', 'Oyster stew', 'Stalk raw'],\n",
       " ['Rice flakes', 'French-fried', 'Oyster stew', 'Stalk raw'],\n",
       " ['Rice flakes', 'French-fried', 'Oyster stew', 'Stalk raw'],\n",
       " ['Rice flakes', 'French-fried', 'Oyster stew', 'Stalk raw'],\n",
       " ['Rice flakes', 'French-fried', 'Oyster stew', 'Stalk raw'],\n",
       " ['Rice flakes', 'French-fried', 'Oyster stew', 'Stalk raw'],\n",
       " ['Rice flakes', 'French-fried', 'Oyster stew', 'Stalk raw'],\n",
       " ['Rice flakes', 'French-fried', 'Oyster stew', 'Stalk raw'],\n",
       " ['Rice flakes', 'French-fried', 'Oyster stew', 'Stalk raw'],\n",
       " ['Rice flakes', 'French-fried', 'Oyster stew', 'Stalk raw'],\n",
       " ['Rice flakes', 'French-fried', 'Oyster stew', 'Stalk raw'],\n",
       " ['Rice flakes', 'French-fried', 'Oyster stew', 'Stalk raw'],\n",
       " ['Rice flakes', 'French-fried', 'Oyster stew', 'Stalk raw'],\n",
       " ['Rice flakes', 'French-fried', 'Oyster stew', 'Stalk raw'],\n",
       " ['Rice flakes', 'French-fried', 'Oyster stew', 'Stalk raw'],\n",
       " ['Rice flakes', 'French-fried', 'Oyster stew', 'Stalk raw'],\n",
       " ['Rice flakes', 'French-fried', 'Oyster stew', 'Stalk raw'],\n",
       " ['Rice flakes', 'French-fried', 'Oyster stew', 'Stalk raw']]"
      ]
     },
     "metadata": {},
     "output_type": "display_data"
    },
    {
     "data": {
      "text/plain": [
       "[['Rice flakes', 'French-fried', 'Oyster stew', 'Stalk raw']]"
      ]
     },
     "metadata": {},
     "output_type": "display_data"
    },
    {
     "data": {
      "text/plain": [
       "'cal = 400.0; p = 21.0; f = 13.0; c = 47.0'"
      ]
     },
     "metadata": {},
     "output_type": "display_data"
    },
    {
     "data": {
      "text/plain": [
       "'pr = 21.0; fr = 29.25; cr = 47.0'"
      ]
     },
     "metadata": {},
     "output_type": "display_data"
    },
    {
     "data": {
      "text/plain": [
       "'cald=0.0; pd=1.0; fd=0.75; cd=3.0'"
      ]
     },
     "metadata": {},
     "output_type": "display_data"
    },
    {
     "data": {
      "text/plain": [
       "4.75"
      ]
     },
     "metadata": {},
     "output_type": "display_data"
    }
   ],
   "source": [
    "def new_fitness_func(ga_instanse, solution, solution_idx):\n",
    "    return 1 / (my_fitness(fooddf, solution) + 0.000001)\n",
    "\n",
    "\n",
    "def new_mutation_func(offspring, ga_instance):\n",
    "    return my_mutation(\n",
    "        list(fooddf.index.values), offspring, GENE_SIZE, ga_instance.mutation_probability\n",
    "    )\n",
    "\n",
    "\n",
    "new_ga = pygad.GA(\n",
    "    gene_type=int,\n",
    "    num_generations=300,\n",
    "    initial_population=new_population,\n",
    "    num_parents_mating=int(NEW_POPULATION_COUNT * 0.3),\n",
    "    fitness_func=new_fitness_func,\n",
    "    parent_selection_type=parent_selection_func,  # type: ignore\n",
    "    crossover_type=crossover_func,  # type: ignore\n",
    "    crossover_probability=1.0,\n",
    "    mutation_type=new_mutation_func,  # type: ignore\n",
    "    mutation_probability=0.5,\n",
    "    save_best_solutions=True,\n",
    ")\n",
    "\n",
    "new_ga.run()\n",
    "new_ga.plot_fitness()\n",
    "display(new_ga.best_solution())\n",
    "\n",
    "display(my_print(fooddf, [sol for sol in new_ga.best_solutions]))\n",
    "\n",
    "my_new_breakfast = list(new_ga.best_solution()[0])\n",
    "display(my_print(fooddf, [my_new_breakfast]))\n",
    "display(my_fitness(fooddf, my_new_breakfast, True))"
   ]
  }
 ],
 "metadata": {
  "kernelspec": {
   "display_name": ".venv",
   "language": "python",
   "name": "python3"
  },
  "language_info": {
   "codemirror_mode": {
    "name": "ipython",
    "version": 3
   },
   "file_extension": ".py",
   "mimetype": "text/x-python",
   "name": "python",
   "nbconvert_exporter": "python",
   "pygments_lexer": "ipython3",
   "version": "3.12.9"
  }
 },
 "nbformat": 4,
 "nbformat_minor": 2
}
